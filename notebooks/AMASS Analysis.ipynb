{
 "cells": [
  {
   "cell_type": "code",
   "execution_count": null,
   "metadata": {},
   "outputs": [],
   "source": [
    "import os.path as osp\n",
    "import numpy as np\n",
    "import matplotlib.pyplot as plt\n",
    "import seaborn as sns\n",
    "import pandas as pd\n",
    "from IPython.display import Video\n",
    "from collections import defaultdict\n",
    "\n",
    "sns.set_palette('Set2')\n",
    "\n",
    "amass_path = '/mnt/Alfheim/Data/AMASS'"
   ]
  },
  {
   "cell_type": "markdown",
   "metadata": {},
   "source": [
    "The dataset provides 11259 poses from MoCap which were normalized through MoSH++"
   ]
  },
  {
   "cell_type": "code",
   "execution_count": null,
   "metadata": {},
   "outputs": [],
   "source": [
    "npz_list = [l.strip() for l in open(osp.join(amass_path, 'npz.lst')).readlines()]\n",
    "len(npz_list)"
   ]
  },
  {
   "cell_type": "markdown",
   "metadata": {},
   "source": [
    "The data provided for each animation consists of the following field:\n",
    "- trans\n",
    "- gender\n",
    "- mocap_framerate\n",
    "- betas\n",
    "- dmpls\n",
    "- poses"
   ]
  },
  {
   "cell_type": "code",
   "execution_count": 3,
   "metadata": {},
   "outputs": [
    {
     "name": "stdout",
     "output_type": "stream",
     "text": [
      "Translation:      (360, 3)\n",
      "Gender:           female\n",
      "MoCap Framerate:  120\n",
      "Betas:            (16,)\n",
      "DMPLs:            (360, 8)\n",
      "Poses:            (360, 156)\n"
     ]
    }
   ],
   "source": [
    "sample_data = np.load(osp.join(amass_path, npz_list[0]))\n",
    "print(f\"Translation:      {sample_data['trans'].shape}\")\n",
    "print(f\"Gender:           {str(sample_data['gender'])}\")\n",
    "print(f\"MoCap Framerate:  {int(sample_data['mocap_framerate'])}\")\n",
    "print(f\"Betas:            {sample_data['betas'].shape}\")\n",
    "print(f\"DMPLs:            {sample_data['dmpls'].shape}\")\n",
    "print(f\"Poses:            {sample_data['poses'].shape}\")"
   ]
  },
  {
   "cell_type": "markdown",
   "metadata": {},
   "source": [
    "As with any dataset, there are files which cannot be load or are in an incompatible format. Fortunately, the list is short and only 26/11259 cannot be loaded."
   ]
  },
  {
   "cell_type": "code",
   "execution_count": 4,
   "metadata": {},
   "outputs": [
    {
     "name": "stderr",
     "output_type": "stream",
     "text": [
      "Exception ignored in: <function NpzFile.__del__ at 0x7fc72b7d6c20>\n",
      "Traceback (most recent call last):\n",
      "  File \"/home/zal/anaconda3/envs/amass/lib/python3.7/site-packages/numpy/lib/npyio.py\", line 230, in __del__\n",
      "    self.close()\n",
      "  File \"/home/zal/anaconda3/envs/amass/lib/python3.7/site-packages/numpy/lib/npyio.py\", line 221, in close\n",
      "    if self.zip is not None:\n",
      "AttributeError: 'NpzFile' object has no attribute 'zip'\n",
      "Exception ignored in: <function NpzFile.__del__ at 0x7fc72b7d6c20>\n",
      "Traceback (most recent call last):\n",
      "  File \"/home/zal/anaconda3/envs/amass/lib/python3.7/site-packages/numpy/lib/npyio.py\", line 230, in __del__\n",
      "    self.close()\n",
      "  File \"/home/zal/anaconda3/envs/amass/lib/python3.7/site-packages/numpy/lib/npyio.py\", line 221, in close\n",
      "    if self.zip is not None:\n",
      "AttributeError: 'NpzFile' object has no attribute 'zip'\n"
     ]
    },
    {
     "name": "stdout",
     "output_type": "stream",
     "text": [
      "Troubled files: 26 / 11259\n"
     ]
    }
   ],
   "source": [
    "trouble_npz_list = []\n",
    "for entry_npz in npz_list:\n",
    "    try:\n",
    "        data = np.load(osp.join(amass_path, entry_npz))\n",
    "    except:\n",
    "        trouble_npz_list.append(entry_npz)\n",
    "print(f\"Troubled files: {len(trouble_npz_list)} / {len(npz_list)}\")"
   ]
  },
  {
   "cell_type": "code",
   "execution_count": 6,
   "metadata": {},
   "outputs": [
    {
     "name": "stdout",
     "output_type": "stream",
     "text": [
      "CMU/CMU/29/29_01_poses.npz\n",
      "CMU/CMU/29/29_04_poses.npz\n",
      "CMU/CMU/29/29_08_poses.npz\n",
      "CMU/CMU/29/29_10_poses.npz\n",
      "CMU/CMU/29/29_17_poses.npz\n",
      "CMU/CMU/79/79_11_poses.npz\n",
      "CMU/CMU/79/79_18_poses.npz\n",
      "CMU/CMU/79/79_25_poses.npz\n",
      "CMU/CMU/79/79_48_poses.npz\n",
      "CMU/CMU/79/79_51_poses.npz\n",
      "CMU/CMU/79/79_56_poses.npz\n",
      "CMU/CMU/79/79_58_poses.npz\n",
      "CMU/CMU/79/79_59_poses.npz\n",
      "CMU/CMU/79/79_74_poses.npz\n",
      "CMU/CMU/79/79_83_poses.npz\n",
      "CMU/CMU/79/79_84_poses.npz\n",
      "CMU/CMU/79/79_85_poses.npz\n",
      "CMU/CMU/79/79_89_poses.npz\n",
      "CMU/CMU/79/79_95_poses.npz\n",
      "CMU/CMU/140/140_01_poses.npz\n",
      "CMU/CMU/140/140_02_poses.npz\n",
      "CMU/CMU/140/140_04_poses.npz\n",
      "CMU/CMU/140/140_06_poses.npz\n",
      "CMU/CMU/140/140_07_poses.npz\n",
      "CMU/CMU/140/140_08_poses.npz\n",
      "CMU/CMU/140/140_09_poses.npz\n"
     ]
    }
   ],
   "source": [
    "print('\\n'.join(trouble_npz_list))"
   ]
  },
  {
   "cell_type": "code",
   "execution_count": 8,
   "metadata": {},
   "outputs": [],
   "source": [
    "gender_list = []\n",
    "framerate_list = []\n",
    "poses_len_list = []\n",
    "for entry_npz in npz_list:\n",
    "    if entry_npz in trouble_npz_list:\n",
    "        continue\n",
    "    data = np.load(osp.join(amass_path, entry_npz), allow_pickle=True)\n",
    "    if 'gender' in data:\n",
    "        gender_list.append(str(data['gender']))\n",
    "    if 'mocap_framerate' in data:\n",
    "        framerate_list.append(int(data['mocap_framerate']))\n",
    "    if 'poses' in data:\n",
    "        poses_len_list.append(data['poses'].shape[0])"
   ]
  },
  {
   "cell_type": "markdown",
   "metadata": {},
   "source": [
    "## Gender Stats"
   ]
  },
  {
   "cell_type": "code",
   "execution_count": 43,
   "metadata": {},
   "outputs": [
    {
     "data": {
      "image/png": "[encoded data removed]",
      "text/plain": [
       "<Figure size 432x288 with 1 Axes>"
      ]
     },
     "metadata": {},
     "output_type": "display_data"
    }
   ],
   "source": [
    "genders = set(gender_list)\n",
    "gender_count = defaultdict(int)\n",
    "for g in gender_list:\n",
    "    gender_count[g] += 1\n",
    "    \n",
    "sizes = [gender_count[g] for g in genders]\n",
    "\n",
    "#colors\n",
    "colors = ['#99ff99','#ff9999','#66b3ff']\n",
    "fig1, ax1 = plt.subplots()\n",
    "ax1.pie(sizes, colors = colors, labels=genders, autopct='%1.1f%%', startangle=90)\n",
    "#draw circle\n",
    "centre_circle = plt.Circle((0,0),0.70,fc='white')\n",
    "fig = plt.gcf()\n",
    "fig.gca().add_artist(centre_circle)\n",
    "# Equal aspect ratio ensures that pie is drawn as a circle\n",
    "ax1.axis('equal')  \n",
    "plt.tight_layout()\n",
    "plt.show()"
   ]
  },
  {
   "cell_type": "markdown",
   "metadata": {},
   "source": [
    "## Framerate Stats"
   ]
  },
  {
   "cell_type": "code",
   "execution_count": 37,
   "metadata": {},
   "outputs": [
    {
     "data": {
      "text/plain": [
       "(array([ 614.,    0., 4620., 5923.,    9.,    0.,    0.,    0.,    0.,\n",
       "          57.]),\n",
       " array([ 59. ,  78.1,  97.2, 116.3, 135.4, 154.5, 173.6, 192.7, 211.8,\n",
       "        230.9, 250. ]),\n",
       " <a list of 10 Patch objects>)"
      ]
     },
     "execution_count": 37,
     "metadata": {},
     "output_type": "execute_result"
    },
    {
     "data": {
      "image/png": "[encoded data removed]",
      "text/plain": [
       "<Figure size 432x288 with 1 Axes>"
      ]
     },
     "metadata": {
      "needs_background": "light"
     },
     "output_type": "display_data"
    }
   ],
   "source": [
    "plt.title('MoCap Framerate')\n",
    "plt.xlabel('Framerate')\n",
    "plt.ylabel('Count')\n",
    "plt.hist(framerate_list)"
   ]
  },
  {
   "cell_type": "code",
   "execution_count": 38,
   "metadata": {},
   "outputs": [
    {
     "name": "stdout",
     "output_type": "stream",
     "text": [
      "Min len:   1\n",
      "Max len:   26363\n",
      "Mean len:  1427.8813151563752\n",
      "Len Std:   1936.789803313185\n"
     ]
    },
    {
     "data": {
      "image/png": "[encoded data removed]",
      "text/plain": [
       "<Figure size 432x288 with 1 Axes>"
      ]
     },
     "metadata": {
      "needs_background": "light"
     },
     "output_type": "display_data"
    }
   ],
   "source": [
    "plt.hist(poses_len_list)\n",
    "plt.xlabel('Frames')\n",
    "plt.ylabel('Count')\n",
    "plt.title('Poses Length')\n",
    "print(f\"Min len:   {np.min(poses_len_list)}\")\n",
    "print(f\"Max len:   {np.max(poses_len_list)}\")\n",
    "print(f\"Mean len:  {np.mean(poses_len_list)}\")\n",
    "print(f\"Len Std:   {np.std(poses_len_list)}\")"
   ]
  }
 ],
 "metadata": {
  "kernelspec": {
   "display_name": "Python 3",
   "language": "python",
   "name": "python3"
  },
  "language_info": {
   "codemirror_mode": {
    "name": "ipython",
    "version": 3
   },
   "file_extension": ".py",
   "mimetype": "text/x-python",
   "name": "python",
   "nbconvert_exporter": "python",
   "pygments_lexer": "ipython3",
   "version": "3.7.4"
  }
 },
 "nbformat": 4,
 "nbformat_minor": 2
}
