{
 "cells": [
  {
   "cell_type": "code",
   "execution_count": 24,
   "metadata": {},
   "outputs": [],
   "source": [
    "import pickle\n",
    "import matplotlib.pyplot as plt\n",
    "import seaborn as sns\n",
    "from collections import Counter"
   ]
  },
  {
   "cell_type": "code",
   "execution_count": 2,
   "metadata": {},
   "outputs": [],
   "source": [
    "data = pickle.load(open('/mnt/Alfheim/Data/ECCV20/amass.pkl', 'rb'))"
   ]
  },
  {
   "cell_type": "code",
   "execution_count": 14,
   "metadata": {},
   "outputs": [
    {
     "name": "stdout",
     "output_type": "stream",
     "text": [
      "Empty count:        6167/13232\n",
      "Mutli-class count:  1172/13232\n",
      "Single class count: 5893/13232\n"
     ]
    }
   ],
   "source": [
    "empty_count = 0\n",
    "multiclass_count = 0\n",
    "for k in data.keys():\n",
    "    class_str = data[k]['class'][1]\n",
    "    if class_str == '':\n",
    "        empty_count += 1\n",
    "    if ';' in class_str:\n",
    "        multiclass_count += 1\n",
    "total_samples = len(data.keys())\n",
    "print(f'Empty count:        {empty_count}/{total_samples}')\n",
    "print(f'Mutli-class count:  {multiclass_count}/{total_samples}')\n",
    "print(f'Single class count: {total_samples - empty_count - multiclass_count}/{total_samples}')"
   ]
  },
  {
   "cell_type": "code",
   "execution_count": 15,
   "metadata": {},
   "outputs": [],
   "source": [
    "single_class = [data[k]['class'][1] for k in data.keys() if ';' not in data[k]['class'][1] and data[k]['class'][1] != '']"
   ]
  },
  {
   "cell_type": "code",
   "execution_count": 26,
   "metadata": {},
   "outputs": [
    {
     "name": "stdout",
     "output_type": "stream",
     "text": [
      "Num Classes:   102\n",
      "['act', 'aufstehen', 'backfist', 'balance', 'bang', 'barfkudo', 'basickendo', 'bend', 'block', 'bounce', 'bow', 'clap', 'crawl', 'cros', 'crouch', 'cut', 'dance', 'displace', 'dodge', 'dribble', 'drink', 'dry', 'experimentb', 'extend', 'gesture', 'go', 'greet', 'greetingbyekawaguchi', 'hinundschuhbinden', 'hook', 'hop', 'inspect', 'jab', 'jiggle', 'jog', 'jump', 'jumpboxer', 'jyfia', 'karateback', 'kick', 'kickichige', 'kneel', 'knock', 'lean', 'leave', 'lie', 'lift', 'look', 'mix', 'otoshiyokoyama', 'pick', 'pose', 'posebende', 'poselook', 'poseopen', 'posezombeekanno', 'pour', 'prepare', 'punch', 'push', 'pushstandclos', 'pushstandtran', 'put', 'recoverystepp', 'relax', 'roundhouse', 'run', 'scamper', 'seesaw', 'serviceyamaoka', 'shake', 'shower', 'sidestep', 'sit', 'skip', 'smash', 'squat', 'stand', 'step', 'stir', 'stomp', 'streche', 'stretch', 'sway', 'switch', 'take', 'taunt', 'tenniscatch', 'throw', 'transfuse', 'turn', 'turnlook', 'uppercut', 'wait', 'walk', 'walkbackwardtakiguchi', 'walkmoonwalktakiguchi', 'walkshoulder', 'warm', 'wash', 'wave', 'wipe']\n"
     ]
    }
   ],
   "source": [
    "class_list = sorted(set(single_class))\n",
    "print(f'Num Classes:   {len(class_list)}')\n",
    "print(class_list)"
   ]
  },
  {
   "cell_type": "code",
   "execution_count": 28,
   "metadata": {},
   "outputs": [
    {
     "data": {
      "text/plain": [
       "[('walk', 1306),\n",
       " ('jog', 476),\n",
       " ('lift', 395),\n",
       " ('throw', 313),\n",
       " ('jump', 309),\n",
       " ('turn', 258),\n",
       " ('push', 257),\n",
       " ('kick', 247),\n",
       " ('sit', 215),\n",
       " ('knock', 203),\n",
       " ('gesture', 180),\n",
       " ('wipe', 154),\n",
       " ('leave', 126),\n",
       " ('displace', 120),\n",
       " ('step', 107),\n",
       " ('bend', 95),\n",
       " ('go', 85),\n",
       " ('kneel', 77),\n",
       " ('scamper', 72),\n",
       " ('recoverystepp', 67),\n",
       " ('pose', 65),\n",
       " ('run', 59),\n",
       " ('wave', 58),\n",
       " ('greet', 51),\n",
       " ('stand', 40),\n",
       " ('lean', 36),\n",
       " ('dance', 35),\n",
       " ('wash', 35),\n",
       " ('shake', 34),\n",
       " ('hop', 32),\n",
       " ('drink', 22),\n",
       " ('bow', 21),\n",
       " ('take', 21),\n",
       " ('stir', 21),\n",
       " ('punch', 20),\n",
       " ('seesaw', 20),\n",
       " ('shower', 16),\n",
       " ('mix', 16),\n",
       " ('stretch', 15),\n",
       " ('jiggle', 11),\n",
       " ('squat', 11),\n",
       " ('stomp', 11),\n",
       " ('pushstandtran', 10),\n",
       " ('pushstandclos', 10),\n",
       " ('cut', 10),\n",
       " ('put', 10),\n",
       " ('smash', 10),\n",
       " ('act', 7),\n",
       " ('inspect', 7),\n",
       " ('lie', 6),\n",
       " ('crawl', 6),\n",
       " ('pour', 6),\n",
       " ('streche', 6),\n",
       " ('balance', 6),\n",
       " ('block', 5),\n",
       " ('aufstehen', 5),\n",
       " ('crouch', 4),\n",
       " ('poselook', 4),\n",
       " ('prepare', 4),\n",
       " ('pick', 3),\n",
       " ('look', 3),\n",
       " ('extend', 3),\n",
       " ('sway', 3),\n",
       " ('tenniscatch', 3),\n",
       " ('hinundschuhbinden', 3),\n",
       " ('transfuse', 3),\n",
       " ('experimentb', 3),\n",
       " ('taunt', 2),\n",
       " ('switch', 2),\n",
       " ('cros', 2),\n",
       " ('roundhouse', 2),\n",
       " ('clap', 2),\n",
       " ('poseopen', 2),\n",
       " ('wait', 1),\n",
       " ('sidestep', 1),\n",
       " ('relax', 1),\n",
       " ('warm', 1),\n",
       " ('jab', 1),\n",
       " ('backfist', 1),\n",
       " ('hook', 1),\n",
       " ('uppercut', 1),\n",
       " ('dodge', 1),\n",
       " ('bounce', 1),\n",
       " ('dribble', 1),\n",
       " ('jyfia', 1),\n",
       " ('posebende', 1),\n",
       " ('otoshiyokoyama', 1),\n",
       " ('karateback', 1),\n",
       " ('barfkudo', 1),\n",
       " ('jumpboxer', 1),\n",
       " ('serviceyamaoka', 1),\n",
       " ('posezombeekanno', 1),\n",
       " ('walkshoulder', 1),\n",
       " ('turnlook', 1),\n",
       " ('kickichige', 1),\n",
       " ('greetingbyekawaguchi', 1),\n",
       " ('walkbackwardtakiguchi', 1),\n",
       " ('walkmoonwalktakiguchi', 1),\n",
       " ('dry', 1),\n",
       " ('bang', 1),\n",
       " ('basickendo', 1),\n",
       " ('skip', 1)]"
      ]
     },
     "execution_count": 28,
     "metadata": {},
     "output_type": "execute_result"
    }
   ],
   "source": [
    "class_counter = Counter(single_class)\n",
    "sorted(zip(class_counter.keys(), class_counter.values()), key=lambda x: x[1], reverse=True)"
   ]
  }
 ],
 "metadata": {
  "kernelspec": {
   "display_name": "Python 3",
   "language": "python",
   "name": "python3"
  },
  "language_info": {
   "codemirror_mode": {
    "name": "ipython",
    "version": 3
   },
   "file_extension": ".py",
   "mimetype": "text/x-python",
   "name": "python",
   "nbconvert_exporter": "python",
   "pygments_lexer": "ipython3",
   "version": "3.7.3"
  }
 },
 "nbformat": 4,
 "nbformat_minor": 2
}
