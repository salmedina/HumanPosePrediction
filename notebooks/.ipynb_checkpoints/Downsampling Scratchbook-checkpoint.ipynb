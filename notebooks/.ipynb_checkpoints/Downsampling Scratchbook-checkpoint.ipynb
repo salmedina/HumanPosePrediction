{
 "cells": [
  {
   "cell_type": "code",
   "execution_count": 35,
   "metadata": {},
   "outputs": [],
   "source": [
    "import numpy as np\n",
    "import os.path as osp\n",
    "from pathlib import Path\n",
    "from easydict import EasyDict as edict"
   ]
  },
  {
   "cell_type": "code",
   "execution_count": 47,
   "metadata": {},
   "outputs": [
    {
     "name": "stdout",
     "output_type": "stream",
     "text": [
      "['trans', 'gender', 'mocap_framerate', 'betas', 'dmpls', 'poses']\n",
      "Betas shape: (16,)\n",
      "Trans shape: (3600, 3)\n",
      "DMPLs shape: (3600, 8)\n",
      "Poses shape: (3600, 156)\n"
     ]
    }
   ],
   "source": [
    "sample_path = '/mnt/Alfheim/Data/AMASS/EyesJapanDataset/Eyes_Japan_Dataset/aita/gesture_etc-22-mobile receive-aita_poses.npz'\n",
    "data = edict(np.load(sample_path))\n",
    "print([k for k in data.keys()])\n",
    "print(f'Betas shape: {data.betas.shape}')\n",
    "print(f'Trans shape: {data.trans.shape}')\n",
    "print(f'DMPLs shape: {data.dmpls.shape}')\n",
    "print(f'Poses shape: {data.poses.shape}')"
   ]
  },
  {
   "cell_type": "code",
   "execution_count": 15,
   "metadata": {},
   "outputs": [
    {
     "name": "stdout",
     "output_type": "stream",
     "text": [
      "Frames: 3600  Duration: 30.0 [s]\n"
     ]
    }
   ],
   "source": [
    "sample_frames = data.poses.shape[0]\n",
    "sample_duration = sample_frames / data.mocap_framerate\n",
    "print(f'Frames: {sample_frames}  Duration: {sample_duration} [s]')"
   ]
  },
  {
   "cell_type": "code",
   "execution_count": 28,
   "metadata": {},
   "outputs": [
    {
     "name": "stdout",
     "output_type": "stream",
     "text": [
      "Frames: 1800   Duration: 30.0 [s]\n"
     ]
    }
   ],
   "source": [
    "target_framerate = 60\n",
    "downsample_step = data.mocap_framerate/target_framerate\n",
    "downsample_frame_idx = np.round(np.arange(0, sample_frames, downsample_step)).astype(int)\n",
    "downsample_frames = len(downsample_frame_idx)\n",
    "downsample_duration = downsample_frames / target_framerate\n",
    "print(f'Frames: {downsample_frames}   Duration: {downsample_duration} [s]')"
   ]
  },
  {
   "cell_type": "code",
   "execution_count": 42,
   "metadata": {},
   "outputs": [
    {
     "data": {
      "text/plain": [
       "11259"
      ]
     },
     "execution_count": 42,
     "metadata": {},
     "output_type": "execute_result"
    }
   ],
   "source": [
    "npz_path_list = [str(fp) for fp in Path('/mnt/Alfheim/Data/AMASS/').rglob('*.npz')]"
   ]
  },
  {
   "cell_type": "code",
   "execution_count": 43,
   "metadata": {},
   "outputs": [
    {
     "data": {
      "text/plain": [
       "'ACCAD/ACCAD/Female1General_c3d/A1 - Stand_poses.npz'"
      ]
     },
     "execution_count": 43,
     "metadata": {},
     "output_type": "execute_result"
    }
   ],
   "source": [
    "osp.relpath(npz_path_list[0], '/mnt/Alfheim/Data/AMASS/')"
   ]
  },
  {
   "cell_type": "code",
   "execution_count": 49,
   "metadata": {},
   "outputs": [],
   "source": [
    "np.savez(osp.join('test.npz'),\n",
    "                     trans=data.trans,\n",
    "                     gender=data.gender,\n",
    "                     mocap_framerate=data.mocap_framerate,\n",
    "                     betas=data.betas,\n",
    "                     dmpls=data.dmpls,\n",
    "                     poses=data.poses)"
   ]
  },
  {
   "cell_type": "code",
   "execution_count": 53,
   "metadata": {},
   "outputs": [
    {
     "name": "stdout",
     "output_type": "stream",
     "text": [
      "['trans', 'gender', 'mocap_framerate', 'betas', 'dmpls', 'poses']\n",
      "Gender: male\n",
      "MoCap fr: 120.0\n",
      "Betas shape: (16,)\n",
      "Trans shape: (3600, 3)\n",
      "DMPLs shape: (3600, 8)\n",
      "Poses shape: (3600, 156)\n"
     ]
    }
   ],
   "source": [
    "test_data = edict(np.load('test.npz'))\n",
    "print([k for k in test_data.keys()])\n",
    "print(f'Gender: {test_data.gender}')\n",
    "print(f'MoCap fr: {test_data.mocap_framerate}')\n",
    "print(f'Betas shape: {test_data.betas.shape}')\n",
    "print(f'Trans shape: {test_data.trans.shape}')\n",
    "print(f'DMPLs shape: {test_data.dmpls.shape}')\n",
    "print(f'Poses shape: {test_data.poses.shape}')"
   ]
  },
  {
   "cell_type": "code",
   "execution_count": 56,
   "metadata": {},
   "outputs": [
    {
     "name": "stdout",
     "output_type": "stream",
     "text": [
      "[-2.11390840e-02  2.06045868e+00  2.28852498e+00  1.81357282e-01\n",
      "  2.37371063e-01  1.33621892e-01  1.06409159e-01 -2.34066944e-01\n",
      " -5.99651452e-02  9.21204428e-02  5.76032175e-02  4.49019782e-02\n",
      " -1.03278717e-01 -2.30016590e-02 -7.51160200e-03 -6.38211451e-03\n",
      "  7.45803508e-02  4.46060324e-02 -5.40240896e-02 -1.86035189e-03\n",
      " -2.48649536e-02 -6.69188988e-02  3.91614597e-01 -1.87976502e-02\n",
      " -2.52740303e-02 -2.40722502e-01  1.03264159e-01  1.30235620e-01\n",
      "  2.44371143e-02  3.18748207e-02  0.00000000e+00  0.00000000e+00\n",
      "  0.00000000e+00  0.00000000e+00  0.00000000e+00  0.00000000e+00\n",
      "  3.69944416e-01 -9.95374939e-02 -4.55372259e-02 -3.51870426e-02\n",
      " -6.45389683e-02  1.59498435e-02 -2.56420551e-02  6.04000976e-02\n",
      " -3.53251703e-02  1.52158783e-01  4.38141602e-02  1.30815619e-01\n",
      " -2.15506833e-01 -5.91994240e-02 -1.80806492e-01 -1.39463855e-01\n",
      " -1.57030555e-01  4.36354768e-02 -2.50633790e-01 -3.24704585e-01\n",
      "  1.62324708e-01 -1.86987339e-01  1.97186482e-01  5.80686873e-02\n",
      "  7.75331832e-02 -1.65208610e-01  5.71575753e-01  1.06047101e-01\n",
      "  1.10951783e-01 -5.35068609e-01  1.11678716e-01  4.28921748e-02\n",
      " -4.16441837e-01  1.08811325e-01 -6.59856789e-02 -7.56220010e-01\n",
      " -9.63929651e-02 -9.09156592e-02 -1.88459291e-01 -1.18095039e-01\n",
      "  5.09438526e-02 -5.29584500e-01 -1.43698409e-01  5.52417000e-02\n",
      " -7.04857141e-01 -1.91829168e-02 -9.23368482e-02 -3.37913524e-01\n",
      " -4.57032983e-01 -1.96283945e-01 -6.25457533e-01 -2.14652379e-01\n",
      " -6.59982865e-02 -5.06894207e-01 -3.69724357e-01 -6.03446264e-02\n",
      " -7.94902279e-02 -1.41869695e-01 -8.58526333e-02 -6.35528257e-01\n",
      " -3.03341587e-01 -5.78809752e-02 -6.31389210e-01 -1.76120885e-01\n",
      " -1.32093076e-01 -3.73354576e-01  8.50964279e-01  2.76922742e-01\n",
      " -9.15480698e-02 -4.99839438e-01  2.65564722e-02  5.28808767e-02\n",
      "  5.35559148e-01  4.59610410e-02 -2.77358021e-01  1.11678716e-01\n",
      " -4.28921748e-02  4.16441837e-01  1.08811325e-01  6.59856789e-02\n",
      "  7.56220010e-01 -9.63929651e-02  9.09156592e-02  1.88459291e-01\n",
      " -1.18095039e-01 -5.09438526e-02  5.29584500e-01 -1.43698409e-01\n",
      " -5.52417000e-02  7.04857141e-01 -1.91829168e-02  9.23368482e-02\n",
      "  3.37913524e-01 -4.57032983e-01  1.96283945e-01  6.25457533e-01\n",
      " -2.14652379e-01  6.59982865e-02  5.06894207e-01 -3.69724357e-01\n",
      "  6.03446264e-02  7.94902279e-02 -1.41869695e-01  8.58526333e-02\n",
      "  6.35528257e-01 -3.03341587e-01  5.78809752e-02  6.31389210e-01\n",
      " -1.76120885e-01  1.32093076e-01  3.73354576e-01  8.50964279e-01\n",
      " -2.76922742e-01  9.15480698e-02 -4.99839438e-01 -2.65564722e-02\n",
      " -5.28808767e-02  5.35559148e-01 -4.59610410e-02  2.77358021e-01]\n",
      "[-0.01213324  2.03336777  2.3384148   0.19378705  0.18367752  0.10380432\n",
      "  0.15521781 -0.16146127 -0.03486081  0.07597079  0.05241638  0.01053225\n",
      " -0.0772115  -0.04748034 -0.02643667 -0.00380659  0.11191218  0.01114862\n",
      "  0.0050955  -0.00441719 -0.02841901 -0.08630784  0.37909362  0.02034093\n",
      " -0.10915512 -0.33573433  0.07591236  0.08297978  0.0093437   0.04429851\n",
      "  0.          0.          0.          0.          0.          0.\n",
      " -0.00911013 -0.21133673 -0.04469938 -0.02472394 -0.07525714  0.03821335\n",
      " -0.03494797  0.1088859  -0.09135992 -0.15609513  0.01477332  0.12253609\n",
      " -0.24862749 -0.05496343 -0.13282572 -0.09555957 -0.1068869   0.04914404\n",
      " -0.20287502 -0.28024678  0.16079563 -0.07096469  0.21521807  0.03226046\n",
      " -0.01139098 -0.14641031  0.38632751  0.02086204  0.11430657 -0.39890716\n",
      "  0.11167872  0.04289217 -0.41644184  0.10881133 -0.06598568 -0.75622001\n",
      " -0.09639297 -0.09091566 -0.18845929 -0.11809504  0.05094385 -0.5295845\n",
      " -0.14369841  0.0552417  -0.70485714 -0.01918292 -0.09233685 -0.33791352\n",
      " -0.45703298 -0.19628395 -0.62545753 -0.21465238 -0.06599829 -0.50689421\n",
      " -0.36972436 -0.06034463 -0.07949023 -0.14186969 -0.08585263 -0.63552826\n",
      " -0.30334159 -0.05788098 -0.63138921 -0.17612089 -0.13209308 -0.37335458\n",
      "  0.85096428  0.27692274 -0.09154807 -0.49983944  0.02655647  0.05288088\n",
      "  0.53555915  0.04596104 -0.27735802  0.11167872 -0.04289217  0.41644184\n",
      "  0.10881133  0.06598568  0.75622001 -0.09639297  0.09091566  0.18845929\n",
      " -0.11809504 -0.05094385  0.5295845  -0.14369841 -0.0552417   0.70485714\n",
      " -0.01918292  0.09233685  0.33791352 -0.45703298  0.19628395  0.62545753\n",
      " -0.21465238  0.06599829  0.50689421 -0.36972436  0.06034463  0.07949023\n",
      " -0.14186969  0.08585263  0.63552826 -0.30334159  0.05788098  0.63138921\n",
      " -0.17612089  0.13209308  0.37335458  0.85096428 -0.27692274  0.09154807\n",
      " -0.49983944 -0.02655647 -0.05288088  0.53555915 -0.04596104  0.27735802]\n"
     ]
    }
   ],
   "source": [
    "print(data.poses[0])\n",
    "print(data.poses[-1])"
   ]
  },
  {
   "cell_type": "code",
   "execution_count": 59,
   "metadata": {},
   "outputs": [
    {
     "name": "stdout",
     "output_type": "stream",
     "text": [
      "[ True  True  True  True  True  True  True  True  True  True  True  True\n",
      "  True  True  True  True  True  True  True  True  True  True  True  True\n",
      "  True  True  True  True  True  True  True  True  True  True  True  True\n",
      "  True  True  True  True  True  True  True  True  True  True  True  True\n",
      "  True  True  True  True  True  True  True  True  True  True  True  True\n",
      "  True  True  True  True  True  True  True  True  True  True  True  True\n",
      "  True  True  True  True  True  True  True  True  True  True  True  True\n",
      "  True  True  True  True  True  True  True  True  True  True  True  True\n",
      "  True  True  True  True  True  True  True  True  True  True  True  True\n",
      "  True  True  True  True  True  True  True  True  True  True  True  True\n",
      "  True  True  True  True  True  True  True  True  True  True  True  True\n",
      "  True  True  True  True  True  True  True  True  True  True  True  True\n",
      "  True  True  True  True  True  True  True  True  True  True  True  True]\n",
      "[ True  True  True  True  True  True  True  True  True  True  True  True\n",
      "  True  True  True  True  True  True  True  True  True  True  True  True\n",
      "  True  True  True  True  True  True  True  True  True  True  True  True\n",
      "  True  True  True  True  True  True  True  True  True  True  True  True\n",
      "  True  True  True  True  True  True  True  True  True  True  True  True\n",
      "  True  True  True  True  True  True  True  True  True  True  True  True\n",
      "  True  True  True  True  True  True  True  True  True  True  True  True\n",
      "  True  True  True  True  True  True  True  True  True  True  True  True\n",
      "  True  True  True  True  True  True  True  True  True  True  True  True\n",
      "  True  True  True  True  True  True  True  True  True  True  True  True\n",
      "  True  True  True  True  True  True  True  True  True  True  True  True\n",
      "  True  True  True  True  True  True  True  True  True  True  True  True\n",
      "  True  True  True  True  True  True  True  True  True  True  True  True]\n"
     ]
    }
   ],
   "source": [
    "sel_arr = np.take(data.poses, [0, -1], axis=0)\n",
    "print(sel_arr[0] == data.poses[0])\n",
    "print(sel_arr[1] == data.poses[-1])"
   ]
  },
  {
   "cell_type": "code",
   "execution_count": 60,
   "metadata": {},
   "outputs": [
    {
     "data": {
      "text/plain": [
       "'/mnt/Alfheim/Data/AMASS/EyesJapanDataset/Eyes_Japan_Dataset/aita'"
      ]
     },
     "execution_count": 60,
     "metadata": {},
     "output_type": "execute_result"
    }
   ],
   "source": [
    "osp.dirname(sample_path)"
   ]
  }
 ],
 "metadata": {
  "kernelspec": {
   "display_name": "Python 3",
   "language": "python",
   "name": "python3"
  },
  "language_info": {
   "codemirror_mode": {
    "name": "ipython",
    "version": 3
   },
   "file_extension": ".py",
   "mimetype": "text/x-python",
   "name": "python",
   "nbconvert_exporter": "python",
   "pygments_lexer": "ipython3",
   "version": "3.7.4"
  }
 },
 "nbformat": 4,
 "nbformat_minor": 2
}
